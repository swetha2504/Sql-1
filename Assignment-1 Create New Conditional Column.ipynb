{
 "cells": [
  {
   "cell_type": "markdown",
   "id": "b9b71638",
   "metadata": {},
   "source": [
    "# Create New Cond Col"
   ]
  },
  {
   "cell_type": "code",
   "execution_count": 3,
   "id": "fc6837cc",
   "metadata": {},
   "outputs": [
    {
     "name": "stdout",
     "output_type": "stream",
     "text": [
      "   sales  profit       ship_mode  surcharge  total_cost\n",
      "0   1000     500        Same Day       0.20       600.0\n",
      "1    800     400     First Class       0.10       440.0\n",
      "2   1200     600  Standard Class       0.05       630.0\n",
      "3   1500     750    Second Class       0.00       750.0\n"
     ]
    }
   ],
   "source": [
    "import pandas as pd\n",
    "\n",
    "# Create a sample DataFrame\n",
    "data = {'sales': [1000, 800, 1200, 1500],\n",
    "        'profit': [500, 400, 600, 750],\n",
    "        'ship_mode': ['Same Day', 'First Class', 'Standard Class', 'Second Class']}\n",
    "df = pd.DataFrame(data)\n",
    "\n",
    "# Define a function to calculate the surcharge\n",
    "def calculate_surcharge(ship_mode):\n",
    "    if ship_mode == \"Same Day\":\n",
    "        return 0.2\n",
    "    elif ship_mode == \"First Class\":\n",
    "        return 0.1\n",
    "    elif ship_mode == \"Standard Class\":\n",
    "        return 0.05\n",
    "    else:\n",
    "        return 0\n",
    "\n",
    "df['surcharge'] = df['ship_mode'].apply(calculate_surcharge)\n",
    "\n",
    "\n",
    "df['total_cost'] = (df['sales'] - df['profit']) * (1 + df['surcharge'])\n",
    "\n",
    "\n",
    "print(df)\n"
   ]
  },
  {
   "cell_type": "code",
   "execution_count": null,
   "id": "60298b68",
   "metadata": {},
   "outputs": [],
   "source": []
  }
 ],
 "metadata": {
  "kernelspec": {
   "display_name": "Python 3 (ipykernel)",
   "language": "python",
   "name": "python3"
  },
  "language_info": {
   "codemirror_mode": {
    "name": "ipython",
    "version": 3
   },
   "file_extension": ".py",
   "mimetype": "text/x-python",
   "name": "python",
   "nbconvert_exporter": "python",
   "pygments_lexer": "ipython3",
   "version": "3.10.9"
  }
 },
 "nbformat": 4,
 "nbformat_minor": 5
}
